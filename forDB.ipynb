{
 "cells": [
  {
   "cell_type": "code",
   "execution_count": 25,
   "metadata": {},
   "outputs": [],
   "source": [
    "import pandas as pd"
   ]
  },
  {
   "cell_type": "code",
   "execution_count": 26,
   "metadata": {},
   "outputs": [],
   "source": [
    "db = pd.read_csv('./data/destinasiWisata.csv')"
   ]
  },
  {
   "cell_type": "code",
   "execution_count": 27,
   "metadata": {},
   "outputs": [
    {
     "data": {
      "text/html": [
       "<div>\n",
       "<style scoped>\n",
       "    .dataframe tbody tr th:only-of-type {\n",
       "        vertical-align: middle;\n",
       "    }\n",
       "\n",
       "    .dataframe tbody tr th {\n",
       "        vertical-align: top;\n",
       "    }\n",
       "\n",
       "    .dataframe thead th {\n",
       "        text-align: right;\n",
       "    }\n",
       "</style>\n",
       "<table border=\"1\" class=\"dataframe\">\n",
       "  <thead>\n",
       "    <tr style=\"text-align: right;\">\n",
       "      <th></th>\n",
       "      <th>place_name</th>\n",
       "      <th>description</th>\n",
       "      <th>category</th>\n",
       "      <th>city</th>\n",
       "      <th>price</th>\n",
       "      <th>rating_avg</th>\n",
       "      <th>coordinate</th>\n",
       "      <th>latitude</th>\n",
       "      <th>longitude</th>\n",
       "      <th>rating_count</th>\n",
       "      <th>distance_km</th>\n",
       "    </tr>\n",
       "  </thead>\n",
       "  <tbody>\n",
       "    <tr>\n",
       "      <th>0</th>\n",
       "      <td>Monumen Nasional</td>\n",
       "      <td>Monumen Nasional atau yang populer disingkat d...</td>\n",
       "      <td>Budaya</td>\n",
       "      <td>Jakarta</td>\n",
       "      <td>20000.0</td>\n",
       "      <td>0</td>\n",
       "      <td>{'lat': -6.1753924, 'lng': 106.8271528}</td>\n",
       "      <td>-61753924.0</td>\n",
       "      <td>1.068272e+09</td>\n",
       "      <td>0</td>\n",
       "      <td>3047.009665</td>\n",
       "    </tr>\n",
       "    <tr>\n",
       "      <th>1</th>\n",
       "      <td>Kota Tua</td>\n",
       "      <td>Kota tua di Jakarta, yang juga bernama Kota Tu...</td>\n",
       "      <td>Budaya</td>\n",
       "      <td>Jakarta</td>\n",
       "      <td>0.0</td>\n",
       "      <td>0</td>\n",
       "      <td>{'lat': -6.137644799999999, 'lng': 106.8171245}</td>\n",
       "      <td>-61376448.0</td>\n",
       "      <td>1.068171e+09</td>\n",
       "      <td>0</td>\n",
       "      <td>14795.470616</td>\n",
       "    </tr>\n",
       "    <tr>\n",
       "      <th>2</th>\n",
       "      <td>Dunia Fantasi</td>\n",
       "      <td>Dunia Fantasi atau disebut juga Dufan adalah t...</td>\n",
       "      <td>Taman Hiburan</td>\n",
       "      <td>Jakarta</td>\n",
       "      <td>270000.0</td>\n",
       "      <td>0</td>\n",
       "      <td>{'lat': -6.125312399999999, 'lng': 106.8335377}</td>\n",
       "      <td>-61253124.0</td>\n",
       "      <td>1.068335e+09</td>\n",
       "      <td>0</td>\n",
       "      <td>8240.165203</td>\n",
       "    </tr>\n",
       "    <tr>\n",
       "      <th>3</th>\n",
       "      <td>Taman Mini Indonesia Indah (TMII)</td>\n",
       "      <td>Taman Mini Indonesia Indah merupakan suatu kaw...</td>\n",
       "      <td>Taman Hiburan</td>\n",
       "      <td>Jakarta</td>\n",
       "      <td>10000.0</td>\n",
       "      <td>0</td>\n",
       "      <td>{'lat': -6.302445899999999, 'lng': 106.8951559}</td>\n",
       "      <td>-63024459.0</td>\n",
       "      <td>1.068952e+09</td>\n",
       "      <td>0</td>\n",
       "      <td>7918.929941</td>\n",
       "    </tr>\n",
       "    <tr>\n",
       "      <th>4</th>\n",
       "      <td>Atlantis Water Adventure</td>\n",
       "      <td>Atlantis Water Adventure atau dikenal dengan A...</td>\n",
       "      <td>Taman Hiburan</td>\n",
       "      <td>Jakarta</td>\n",
       "      <td>94000.0</td>\n",
       "      <td>0</td>\n",
       "      <td>{'lat': -6.12419, 'lng': 106.839134}</td>\n",
       "      <td>-612419.0</td>\n",
       "      <td>1.068391e+08</td>\n",
       "      <td>0</td>\n",
       "      <td>16127.056024</td>\n",
       "    </tr>\n",
       "  </tbody>\n",
       "</table>\n",
       "</div>"
      ],
      "text/plain": [
       "                          place_name  \\\n",
       "0                   Monumen Nasional   \n",
       "1                           Kota Tua   \n",
       "2                      Dunia Fantasi   \n",
       "3  Taman Mini Indonesia Indah (TMII)   \n",
       "4           Atlantis Water Adventure   \n",
       "\n",
       "                                         description       category     city  \\\n",
       "0  Monumen Nasional atau yang populer disingkat d...         Budaya  Jakarta   \n",
       "1  Kota tua di Jakarta, yang juga bernama Kota Tu...         Budaya  Jakarta   \n",
       "2  Dunia Fantasi atau disebut juga Dufan adalah t...  Taman Hiburan  Jakarta   \n",
       "3  Taman Mini Indonesia Indah merupakan suatu kaw...  Taman Hiburan  Jakarta   \n",
       "4  Atlantis Water Adventure atau dikenal dengan A...  Taman Hiburan  Jakarta   \n",
       "\n",
       "      price  rating_avg                                       coordinate  \\\n",
       "0   20000.0           0          {'lat': -6.1753924, 'lng': 106.8271528}   \n",
       "1       0.0           0  {'lat': -6.137644799999999, 'lng': 106.8171245}   \n",
       "2  270000.0           0  {'lat': -6.125312399999999, 'lng': 106.8335377}   \n",
       "3   10000.0           0  {'lat': -6.302445899999999, 'lng': 106.8951559}   \n",
       "4   94000.0           0             {'lat': -6.12419, 'lng': 106.839134}   \n",
       "\n",
       "     latitude     longitude  rating_count   distance_km  \n",
       "0 -61753924.0  1.068272e+09             0   3047.009665  \n",
       "1 -61376448.0  1.068171e+09             0  14795.470616  \n",
       "2 -61253124.0  1.068335e+09             0   8240.165203  \n",
       "3 -63024459.0  1.068952e+09             0   7918.929941  \n",
       "4   -612419.0  1.068391e+08             0  16127.056024  "
      ]
     },
     "execution_count": 27,
     "metadata": {},
     "output_type": "execute_result"
    }
   ],
   "source": [
    "db.head()"
   ]
  },
  {
   "cell_type": "code",
   "execution_count": 28,
   "metadata": {},
   "outputs": [],
   "source": [
    "db['rating_avg'] = db['rating_avg'].astype(float)"
   ]
  },
  {
   "cell_type": "code",
   "execution_count": 29,
   "metadata": {},
   "outputs": [
    {
     "name": "stdout",
     "output_type": "stream",
     "text": [
      "<class 'pandas.core.frame.DataFrame'>\n",
      "RangeIndex: 512 entries, 0 to 511\n",
      "Data columns (total 11 columns):\n",
      " #   Column        Non-Null Count  Dtype  \n",
      "---  ------        --------------  -----  \n",
      " 0   place_name    512 non-null    object \n",
      " 1   description   512 non-null    object \n",
      " 2   category      512 non-null    object \n",
      " 3   city          512 non-null    object \n",
      " 4   price         512 non-null    float64\n",
      " 5   rating_avg    512 non-null    float64\n",
      " 6   coordinate    512 non-null    object \n",
      " 7   latitude      512 non-null    float64\n",
      " 8   longitude     512 non-null    float64\n",
      " 9   rating_count  512 non-null    int64  \n",
      " 10  distance_km   512 non-null    float64\n",
      "dtypes: float64(5), int64(1), object(5)\n",
      "memory usage: 44.1+ KB\n"
     ]
    }
   ],
   "source": [
    "db.info()"
   ]
  },
  {
   "cell_type": "code",
   "execution_count": 30,
   "metadata": {},
   "outputs": [],
   "source": [
    "db.drop(columns='distance_km', inplace=True)"
   ]
  },
  {
   "cell_type": "code",
   "execution_count": 31,
   "metadata": {},
   "outputs": [
    {
     "data": {
      "text/plain": [
       "Index(['place_name', 'description', 'category', 'city', 'price', 'rating_avg',\n",
       "       'coordinate', 'latitude', 'longitude', 'rating_count'],\n",
       "      dtype='object')"
      ]
     },
     "execution_count": 31,
     "metadata": {},
     "output_type": "execute_result"
    }
   ],
   "source": [
    "db.columns"
   ]
  },
  {
   "cell_type": "code",
   "execution_count": 32,
   "metadata": {},
   "outputs": [],
   "source": [
    "db.to_csv('./data/destinasiDB.csv', index=False)"
   ]
  },
  {
   "cell_type": "code",
   "execution_count": 33,
   "metadata": {},
   "outputs": [
    {
     "data": {
      "text/plain": [
       "(512, 10)"
      ]
     },
     "execution_count": 33,
     "metadata": {},
     "output_type": "execute_result"
    }
   ],
   "source": [
    "db.shape"
   ]
  },
  {
   "cell_type": "code",
   "execution_count": null,
   "metadata": {},
   "outputs": [],
   "source": []
  }
 ],
 "metadata": {
  "kernelspec": {
   "display_name": "Python 3",
   "language": "python",
   "name": "python3"
  },
  "language_info": {
   "codemirror_mode": {
    "name": "ipython",
    "version": 3
   },
   "file_extension": ".py",
   "mimetype": "text/x-python",
   "name": "python",
   "nbconvert_exporter": "python",
   "pygments_lexer": "ipython3",
   "version": "3.11.4"
  }
 },
 "nbformat": 4,
 "nbformat_minor": 2
}
